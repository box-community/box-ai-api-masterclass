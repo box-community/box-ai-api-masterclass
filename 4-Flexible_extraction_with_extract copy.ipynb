{
 "cells": [
  {
   "cell_type": "markdown",
   "id": "0a4430ca",
   "metadata": {},
   "source": [
    "# Flexible key/value pair extraction with Box AI\n",
    "\n",
    "In this notebook, we will learn how to use the Box AI API `/extract` endpoint to extract key/value pairs from a single file in Box. In this exercise, we will be using a PDF containing a W-2 form.\n",
    "\n",
    "## Prerequisites\n",
    "\n",
    "You must have completed the Setup notebook first. This will create all of the Box objects, folders, and files that you need, and will have created an environment file to help you get started and import all the libraries you will need.\n",
    "\n",
    "## Workshop\n",
    "\n",
    "The first step is to import all of the environment variables we need for this exercise."
   ]
  },
  {
   "cell_type": "code",
   "execution_count": null,
   "id": "884f1b3a",
   "metadata": {},
   "outputs": [],
   "source": [
    "import os\n",
    "from dotenv import load_dotenv\n",
    "\n",
    "load_dotenv(override=True)\n",
    "\n",
    "BOX_CLIENT_ID=os.getenv('BOX_CLIENT_ID')\n",
    "BOX_CLIENT_SECRET=os.getenv('BOX_CLIENT_SECRET')\n",
    "BOX_USER_ID=os.getenv('BOX_USER_ID')\n",
    "BOX_FOLDER_ID=os.getenv('EXERCISE4_FOLDER')"
   ]
  },
  {
   "cell_type": "markdown",
   "id": "08fd56db",
   "metadata": {},
   "source": [
    "Next we will grab the BoxClient object from the Python SDK to authenticate ourselves to the API. We'll print out the current user's information to ensure we are properly authenticated."
   ]
  },
  {
   "cell_type": "code",
   "execution_count": null,
   "id": "7e9075ca",
   "metadata": {},
   "outputs": [],
   "source": [
    "from box_sdk_gen import BoxClient, CCGConfig, BoxCCGAuth\n",
    "\n",
    "ccg_config = CCGConfig(\n",
    "    client_id=BOX_CLIENT_ID,\n",
    "    client_secret=BOX_CLIENT_SECRET,\n",
    "    user_id=BOX_USER_ID,\n",
    ")\n",
    "\n",
    "ccg_auth = BoxCCGAuth(ccg_config)\n",
    "\n",
    "client = BoxClient(ccg_auth)\n",
    "\n",
    "print(f\"{client.users.get_user_me()}\")"
   ]
  },
  {
   "cell_type": "markdown",
   "id": "a99b5bc0",
   "metadata": {},
   "source": [
    "Now let's find the file in the exercise folder we'll need for this demo."
   ]
  },
  {
   "cell_type": "code",
   "execution_count": null,
   "id": "fe3efe26",
   "metadata": {},
   "outputs": [],
   "source": [
    "files = client.folders.get_folder_items(BOX_FOLDER_ID)\n",
    "\n",
    "file_id = \"\"\n",
    "for file in files.entries:\n",
    "    if file.name == \"WAYNE_GATSBY_W2_2023.pdf\":\n",
    "        file_id = file.id\n",
    "        break\n",
    "\n",
    "print(f\"File ID: {file_id}\")"
   ]
  },
  {
   "cell_type": "markdown",
   "id": "dc983236",
   "metadata": {},
   "source": [
    "Now that we have our file ID, we'll use the create_ai_extract method to extract the data we need from the W-2. We'll use a comma-separated list of fields, but this can be any string that tells Box AI what fields to extract. "
   ]
  },
  {
   "cell_type": "code",
   "execution_count": null,
   "id": "c2ccceb5",
   "metadata": {},
   "outputs": [],
   "source": [
    "from box_sdk_gen import (\n",
    "    AiItemBase\n",
    ")\n",
    "\n",
    "prompt = \"\"\"\n",
    "firstName, lastName, wages, federalTaxWithheld, \n",
    "socialSecurityWages, socialSecurityTaxWithheld, \n",
    "medicareWagesAndTips, medicareTaxWithheld, \n",
    "stateWages, stateTaxWithheld, \n",
    "localWagesAndTips, localTaxWithheld\n",
    "\"\"\"\n",
    "\n",
    "ai_response = client.ai.create_ai_extract(\n",
    "    prompt,\n",
    "    [AiItemBase(id=file_id)],\n",
    ")\n",
    "\n",
    "print (ai_response.answer)"
   ]
  },
  {
   "cell_type": "markdown",
   "id": "d2ed69a1",
   "metadata": {},
   "source": [
    "Flexible extraction gives you access to the powerful Box extraction capabilities without having to have a strictly structured input. You can write a blurb of text, stringify a json or XML object, or even an object for your other third-party systems. Imagine getting exactly what you need to extract to power your production database, or a Salesforce object ready to be serialized and inserted into your opportunity.\n",
    "\n",
    "To get you started, we've provided full, runnable files for this exercise. Running the following cells will generate the file for you in the exercise folders. Use it as-is, or use it as inspiration or a starting point for your workflows and applications."
   ]
  },
  {
   "cell_type": "code",
   "execution_count": null,
   "id": "48a4d767",
   "metadata": {},
   "outputs": [],
   "source": [
    "%%writefile box_ai_flexible_extract.py\n",
    "import os\n",
    "import asyncio\n",
    "from dotenv import load_dotenv\n",
    "\n",
    "from box_sdk_gen import (\n",
    "    BoxClient,\n",
    "    CCGConfig,\n",
    "    BoxCCGAuth,\n",
    "    AiItemBase\n",
    ")\n",
    "\n",
    "load_dotenv(override=True)\n",
    "\n",
    "BOX_CLIENT_ID=os.getenv('BOX_CLIENT_ID')\n",
    "BOX_CLIENT_SECRET=os.getenv('BOX_CLIENT_SECRET')\n",
    "BOX_USER_ID=os.getenv('BOX_USER_ID')\n",
    "BOX_FOLDER_ID=os.getenv('EXERCISE4_FOLDER')\n",
    "\n",
    "def get_box_client():\n",
    "    ccg_config = CCGConfig(\n",
    "        client_id=BOX_CLIENT_ID,\n",
    "        client_secret=BOX_CLIENT_SECRET,\n",
    "        user_id=BOX_USER_ID,\n",
    "    )\n",
    "\n",
    "    ccg_auth = BoxCCGAuth(ccg_config)\n",
    "\n",
    "    client = BoxClient(ccg_auth)\n",
    "\n",
    "    return client\n",
    "\n",
    "def get_file_id(client):\n",
    "    files = client.folders.get_folder_items(BOX_FOLDER_ID)\n",
    "\n",
    "    file_id = \"\"\n",
    "    for file in files.entries:\n",
    "        if file.name == \"WAYNE_GATSBY_W2_2023.pdf\":\n",
    "            file_id = file.id\n",
    "            break\n",
    "\n",
    "    return file_id\n",
    "\n",
    "async def chat_with_ai(): \n",
    "    client = get_box_client()\n",
    "    print(f\"{client.users.get_user_me()}\")\n",
    "    file_id = get_file_id(client)\n",
    "    print(f\"File ID: {file_id}\")\n",
    "\n",
    "\n",
    "    prompt = \"\"\"\n",
    "    firstName, lastName, wages, federalTaxWithheld, \n",
    "    socialSecurityWages, socialSecurityTaxWithheld, \n",
    "    medicareWagesAndTips, medicareTaxWithheld, \n",
    "    stateWages, stateTaxWithheld, \n",
    "    localWagesAndTips, localTaxWithheld\n",
    "    \"\"\"\n",
    "\n",
    "    ai_response = client.ai.create_ai_extract(\n",
    "        prompt,\n",
    "        [AiItemBase(id=file_id)],\n",
    "    )\n",
    "\n",
    "    print (ai_response.answer)\n",
    "\n",
    "if __name__ == \"__main__\":\n",
    "    asyncio.run(chat_with_ai())"
   ]
  }
 ],
 "metadata": {
  "kernelspec": {
   "display_name": ".venv",
   "language": "python",
   "name": "python3"
  },
  "language_info": {
   "codemirror_mode": {
    "name": "ipython",
    "version": 3
   },
   "file_extension": ".py",
   "mimetype": "text/x-python",
   "name": "python",
   "nbconvert_exporter": "python",
   "pygments_lexer": "ipython3",
   "version": "3.11.11"
  }
 },
 "nbformat": 4,
 "nbformat_minor": 5
}

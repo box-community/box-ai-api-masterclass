{
 "cells": [
  {
   "cell_type": "markdown",
   "id": "854bb58b",
   "metadata": {},
   "source": [
    "# Setup\n",
    "\n",
    "This notebook will help you set up your Box development environment for running the following workshops. There are a few things you will need in advance:\n",
    "\n",
    "* A Box instance with Box AI APIs, Box AI Studio, and Box Hubs enabled\n",
    "* A Box application with the `Manage AI` scope enabled and Client Credentials authentication\n",
    "* The Box application enabled in the Box admin console\n",
    "* The Box user ID for the user that created the app\n",
    "\n",
    "In addition, you will want to create and activate a virtual environment if you haven't already. You can do so with the following commands at the command line. You will need to exit the Jupyter Notebook process and then re-start it when you are done.\n",
    "\n",
    "```bash\n",
    "    python -m venv .venv\n",
    "    source .venv/bin/activate\n",
    "```\n",
    "\n",
    "Next, install the required dependencies:"
   ]
  },
  {
   "cell_type": "code",
   "execution_count": null,
   "id": "e771fc3b",
   "metadata": {},
   "outputs": [],
   "source": [
    "!pip install box-sdk-gen python-dotenv"
   ]
  },
  {
   "cell_type": "markdown",
   "id": "dbd33fe9",
   "metadata": {},
   "source": [
    "## Setting up your environment variables\n",
    "\n",
    "In this exercise, we will use a .env file and `python-dotenv` to share these variables across the exercises. By the time you complete this notebook, the .env file will contain:\n",
    "\n",
    "* Key, secret, and user ID\n",
    "* Box Folder IDs for each exercise\n",
    "* Box Hubs ID for exercise 3\n",
    "* Box Metadata Template key for Exercise 5\n",
    "* Box AI Agent ID for exercise 6\n",
    "\n",
    "> **We not recommend storing plain text keys and secrets in files in the real world. This is strictly for the purposes of this exercise**\n",
    "\n",
    "The first step is to gather your key, secret, and user ID."
   ]
  },
  {
   "cell_type": "code",
   "execution_count": null,
   "id": "cf4019c8",
   "metadata": {},
   "outputs": [],
   "source": [
    "import getpass\n",
    "import os\n",
    "from dotenv import load_dotenv\n",
    "\n",
    "BOX_CLIENT_ID=getpass.getpass(\"Enter your Box Client ID: \")\n",
    "BOX_CLIENT_SECRET=getpass.getpass(\"Enter your Box Client Secret: \")\n",
    "BOX_USER_ID=getpass.getpass(\"Enter your Box User ID: \")\n",
    "\n",
    "print(\"BOX_CLIENT_ID={}\".format(BOX_CLIENT_ID), file=open('.env', 'w'))\n",
    "print(\"BOX_CLIENT_SECRET={}\".format(BOX_CLIENT_SECRET), file=open('.env', 'a'))\n",
    "print(\"BOX_USER_ID={}\".format(BOX_USER_ID), file=open('.env', 'a'))\n",
    "\n",
    "load_dotenv(override=True)"
   ]
  },
  {
   "cell_type": "markdown",
   "id": "e3aab672",
   "metadata": {},
   "source": [
    "Now let's authenticate our app to Box to power the rest of our setup steps."
   ]
  },
  {
   "cell_type": "code",
   "execution_count": null,
   "id": "2b26ef5c",
   "metadata": {},
   "outputs": [],
   "source": [
    "from box_sdk_gen import BoxClient, CCGConfig, BoxCCGAuth\n",
    "\n",
    "ccg_config = CCGConfig(\n",
    "    client_id=os.getenv('BOX_CLIENT_ID'),\n",
    "    client_secret=os.getenv('BOX_CLIENT_SECRET'),\n",
    "    user_id=os.getenv('BOX_USER_ID'),\n",
    ")\n",
    "\n",
    "ccg_auth = BoxCCGAuth(ccg_config)\n",
    "\n",
    "client = BoxClient(ccg_auth)\n",
    "\n",
    "print(f\"{client.users.get_user_me()}\")"
   ]
  },
  {
   "cell_type": "markdown",
   "id": "6ca0b1c8",
   "metadata": {},
   "source": [
    "## Box setup\n",
    "\n",
    "Now we will go through the steps to create all the Box objects required to run the exercises in this workshop.\n",
    "\n",
    "### Create the root folder\n",
    "\n",
    "First we will create the top level folder called \"boxworks_masterclass\". We'll create this in the root folder."
   ]
  },
  {
   "cell_type": "code",
   "execution_count": null,
   "id": "94a280f0",
   "metadata": {},
   "outputs": [],
   "source": [
    "from box_sdk_gen import CreateFolderParent\n",
    "\n",
    "folder = client.folders.create_folder(\"boxworks_masterclass\", CreateFolderParent(id=\"0\"))\n",
    "\n",
    "parent_folder_id = folder.id\n",
    "print(f\"Created folder with ID: {parent_folder_id}\")\n",
    "\n",
    "print(\"BOX_PARENT_ID={}\".format(parent_folder_id), file=open('.env', 'a'))"
   ]
  },
  {
   "cell_type": "markdown",
   "id": "b718e868",
   "metadata": {},
   "source": [
    "### Create the subfolders\n",
    "\n",
    "In our newly create folder, we will now create folders for exercises 2 - 6. If you look at the `exercise_documents` folder in this project, you'll see we are mirroring that folder.\n",
    "\n",
    "We'll create a dictionary with these folder IDs to use throughout the setup process and write the to our .env file."
   ]
  },
  {
   "cell_type": "code",
   "execution_count": null,
   "id": "b6ee2168",
   "metadata": {},
   "outputs": [],
   "source": [
    "exercise_folder_ids = {}\n",
    "\n",
    "for i in range(2,7):\n",
    "    folder_name = f\"exercise{i}\"\n",
    "    folder = client.folders.create_folder(folder_name, CreateFolderParent(id=parent_folder_id))\n",
    "    exercise_folder_ids[folder_name] = folder.id\n",
    "    print(\"EXERCISE{}_FOLDER={}\".format(i,folder.id), file=open('.env', 'a'))\n",
    "    print(f\"Created folder exercise{i} with ID: {folder.id}\")"
   ]
  },
  {
   "cell_type": "markdown",
   "id": "5a075db4",
   "metadata": {},
   "source": [
    "### Upload files\n",
    "\n",
    "Now that we have our folder structure in place, the next step is to upload the supporting files into the appropriate Box folders. \n",
    "\n",
    "We are using Python's `os` library and its built-in capabilities to walk the tree and upload the files.\n",
    "\n",
    "Once this step is complete, all of our test content will be available in Box."
   ]
  },
  {
   "cell_type": "code",
   "execution_count": null,
   "id": "4f30e911",
   "metadata": {},
   "outputs": [],
   "source": [
    "from box_sdk_gen import UploadFileAttributes, UploadFileAttributesParentField\n",
    "\n",
    "def upload_sample_files(folder_name, folder_id):\n",
    "\n",
    "    directory_path = f\"exercise_documents/{folder_name}\"  # Replace with the actual path\n",
    "\n",
    "    # Get all entries (files and directories) in the specified path\n",
    "    all_entries = os.listdir(directory_path)\n",
    "\n",
    "    # Filter out only the files and upload them\n",
    "    files_only = {}\n",
    "    for entry in all_entries:\n",
    "        full_path = os.path.join(directory_path, entry)\n",
    "        if os.path.isfile(full_path):\n",
    "            try:\n",
    "                with open(full_path, \"rb\") as file:\n",
    "                    uploaded_files = client.uploads.upload_file(\n",
    "                        UploadFileAttributes(\n",
    "                            name=entry, parent=UploadFileAttributesParentField(id=folder_id)\n",
    "                        ),\n",
    "                        file,\n",
    "                )\n",
    "                new_file = uploaded_files.to_dict()['entries']\n",
    "                files_only[new_file[0].name] = new_file[0].id\n",
    "            except Exception as e:\n",
    "                print(f\"Error uploading file {entry}: {e}\")\n",
    "                pass\n",
    "\n",
    "    # Print the list of files\n",
    "    print(files_only)\n",
    "    return files_only\n",
    "\n",
    "file_map = {}\n",
    "\n",
    "for folder_name, folder_id in exercise_folder_ids.items():\n",
    "    print(f\"{folder_name}: {folder_id}\")\n",
    "    files = upload_sample_files(folder_name, folder_id)\n",
    "\n",
    "    file_map[folder_name] = files\n",
    "\n",
    "print (file_map)"
   ]
  },
  {
   "cell_type": "markdown",
   "id": "51829a1b",
   "metadata": {},
   "source": [
    "### Create our Hub\n",
    "\n",
    "In exercise 3, we will be using a Box Hub and the Box AI API to ask questions across a curated list of clinical trial documents. Box Hubs allow you to curate up to 20,000 documents and Box handles Retrieval Augmented Generation for you. We split the file into chunks, vectorize those chunks, and store them in a vector store so you don't have to. \n",
    "\n",
    "In addition, when you add files to the hub or to a folder that is assigned to the hub, we re-index those files. During the re-index, you will still have access to the use AI.\n",
    "\n",
    "In this exercise, we are creating a Box Hub and then adding the exercise 3 folder. Creating the vectors and indexing for a new hub can take as long as an hour depending on how much content is being added. This one is fairly small, so it should only take a few minutes. If you get an error when you run exercise 3, give it a few minutes and try again.\n",
    "\n",
    "Once the Hub is created, we will write the hubs ID to our .env file."
   ]
  },
  {
   "cell_type": "code",
   "execution_count": null,
   "id": "ca7787b9",
   "metadata": {},
   "outputs": [],
   "source": [
    "from box_sdk_gen import HubItemOperationV2025R0, HubItemOperationV2025R0ActionField, FolderReferenceV2025R0\n",
    "\n",
    "hubs = client.hubs.create_hub_v2025_r0(\n",
    "    \"Exercise 3\",\n",
    "    description=\"Hub containing documents for Exercise 3\",\n",
    ")\n",
    "\n",
    "print(f\"Created hub with ID: {hubs.id}\")\n",
    "print(\"HUBS_ID={}\".format(hubs.id), file=open('.env', 'a'))\n",
    "\n",
    "\n",
    "hub_creation_response = client.hub_items.manage_hub_items_v2025_r0(\n",
    "    hubs.id,\n",
    "    operations=[\n",
    "        HubItemOperationV2025R0(\n",
    "            action=HubItemOperationV2025R0ActionField.ADD,\n",
    "            item=FolderReferenceV2025R0(id=exercise_folder_ids[\"exercise3\"]),\n",
    "        )\n",
    "    ],\n",
    ")\n",
    "print(f\"Added folder to hub: {hub_creation_response}\")"
   ]
  },
  {
   "cell_type": "markdown",
   "id": "b0390f7f",
   "metadata": {},
   "source": [
    "### Create Metadata Template\n",
    "\n",
    "For exercise 5, we have a folder full of invoices, and we are going to loop through them and extract information from them using the `extract_structured` endpoint and this Metadata Template to specify what data we want.\n",
    "\n",
    "Once the Metadata Template is created, we will write the template key to our .env file."
   ]
  },
  {
   "cell_type": "code",
   "execution_count": null,
   "id": "71dfea23",
   "metadata": {},
   "outputs": [],
   "source": [
    "from box_sdk_gen import (\n",
    "    CreateMetadataTemplateFieldsTypeField,\n",
    "    CreateMetadataTemplateFields\n",
    ")\n",
    "\n",
    "template = client.metadata_templates.create_metadata_template(\n",
    "    \"enterprise\",\n",
    "    \"exercise5\",\n",
    "    template_key=\"exercise5\",\n",
    "    fields=[\n",
    "        CreateMetadataTemplateFields(\n",
    "            type=CreateMetadataTemplateFieldsTypeField.STRING,\n",
    "            key=\"companyName\",\n",
    "            display_name=\"Company Name\",\n",
    "        ),\n",
    "        CreateMetadataTemplateFields(\n",
    "            type=CreateMetadataTemplateFieldsTypeField.STRING,\n",
    "            key=\"billedCompanyName\",\n",
    "            display_name=\"Billed Company Name\",\n",
    "        ),\n",
    "        CreateMetadataTemplateFields(\n",
    "            type=CreateMetadataTemplateFieldsTypeField.STRING,\n",
    "            key=\"invoiceNumber\",\n",
    "            display_name=\"Invoice Number\",\n",
    "        ),\n",
    "        CreateMetadataTemplateFields(\n",
    "            type=CreateMetadataTemplateFieldsTypeField.DATE,\n",
    "            key=\"invoiceDate\",\n",
    "            display_name=\"Invoice Date\",\n",
    "        ),\n",
    "        CreateMetadataTemplateFields(\n",
    "            type=CreateMetadataTemplateFieldsTypeField.DATE,\n",
    "            key=\"dueDate\",\n",
    "            display_name=\"Due Date\",\n",
    "        ),\n",
    "        CreateMetadataTemplateFields(\n",
    "            type=CreateMetadataTemplateFieldsTypeField.STRING,\n",
    "            key=\"orderNumber\",\n",
    "            display_name=\"Order Number\",\n",
    "        ),\n",
    "        CreateMetadataTemplateFields(\n",
    "            type=CreateMetadataTemplateFieldsTypeField.FLOAT,\n",
    "            key=\"total\",\n",
    "            display_name=\"Total\",\n",
    "        ),\n",
    "    ],\n",
    ")\n",
    "\n",
    "print(f\"Created metadata template for exercise 5: {template.templateKey}\")\n",
    "print(\"METADATA_TEMPLATE_KEY={}\".format(template.templateKey), file=open('.env', 'a'))"
   ]
  },
  {
   "cell_type": "markdown",
   "id": "9f6b6bd0",
   "metadata": {},
   "source": [
    "### AI Agent creation\n",
    "\n",
    "The final step in our setup is to create a Box AI Studio agent. We will use this in exercise 6 to show how you can create agents and access them from your Platform App. Once this is complete, we will write the Agent ID to our .env file."
   ]
  },
  {
   "cell_type": "code",
   "execution_count": null,
   "id": "e8a814b0",
   "metadata": {},
   "outputs": [],
   "source": [
    "from box_sdk_gen import AiStudioAgentAsk, AiStudioAgentBasicTextTool\n",
    "\n",
    "agent = client.ai_studio.create_ai_agent(\n",
    "    \"Exercise 6 Agent\",\n",
    "    \"enabled\",\n",
    "    ask=AiStudioAgentAsk(\n",
    "        access_state=\"enabled\",\n",
    "        description=\"Agent for Exercise 6\",\n",
    "        custom_instructions=\"\"\"\n",
    "        You are an merger and acquisition expert.\n",
    "\n",
    "        Your role in this work is to analyze due diligence documentation\n",
    "        and identify gaps and risks and make an assessment on the acquisition.\n",
    "        \n",
    "        Only present your findings. Do not ask follow up questions.\n",
    "        \"\"\",\n",
    "        basic_text=AiStudioAgentBasicTextTool(\n",
    "            is_custom_instructions_included=True,\n",
    "            model=\"google__gemini_2_5_pro\",\n",
    "        )\n",
    "    ),\n",
    ")\n",
    "\n",
    "print (f\"Created AI Agent with ID: {agent.id}\")\n",
    "print(\"AI_AGENT_ID={}\".format(agent.id), file=open('.env', 'a'))"
   ]
  }
 ],
 "metadata": {
  "kernelspec": {
   "display_name": ".venv",
   "language": "python",
   "name": "python3"
  },
  "language_info": {
   "codemirror_mode": {
    "name": "ipython",
    "version": 3
   },
   "file_extension": ".py",
   "mimetype": "text/x-python",
   "name": "python",
   "nbconvert_exporter": "python",
   "pygments_lexer": "ipython3",
   "version": "3.11.11"
  }
 },
 "nbformat": 4,
 "nbformat_minor": 5
}

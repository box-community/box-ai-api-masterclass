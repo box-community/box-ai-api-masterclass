{
 "cells": [
  {
   "cell_type": "markdown",
   "id": "72034aa4",
   "metadata": {},
   "source": [
    "stuff to implement\n",
    "* Get CCG token\n",
    "* /ask endpoint with hub"
   ]
  },
  {
   "cell_type": "code",
   "execution_count": 13,
   "id": "5b0120c0",
   "metadata": {},
   "outputs": [
    {
     "name": "stdout",
     "output_type": "stream",
     "text": [
      "BOX_HUBS_ID: 402359053\n"
     ]
    }
   ],
   "source": [
    "import os\n",
    "from dotenv import load_dotenv\n",
    "\n",
    "load_dotenv(override=True)\n",
    "\n",
    "BOX_CLIENT_ID=os.getenv('BOX_CLIENT_ID')\n",
    "BOX_CLIENT_SECRET=os.getenv('BOX_CLIENT_SECRET')\n",
    "BOX_USER_ID=os.getenv('BOX_USER_ID')\n",
    "BOX_HUBS_ID=os.getenv('HUBS_ID')\n",
    "\n",
    "print(\"BOX_HUBS_ID:\", BOX_HUBS_ID)"
   ]
  },
  {
   "cell_type": "code",
   "execution_count": 14,
   "id": "6a1e4df2",
   "metadata": {},
   "outputs": [
    {
     "name": "stdout",
     "output_type": "stream",
     "text": [
      "<class 'box_sdk_gen.schemas.user_full.UserFull'> {'id': '19498290761', 'type': 'user', 'name': 'Scott Hurrey', 'login': 'shurrey+eplusadmin@boxdemo.com', 'created_at': '2022-05-26T10:57:52-07:00', 'modified_at': '2025-08-25T13:51:12-07:00', 'language': 'en', 'timezone': 'America/Los_Angeles', 'space_amount': 999999999999999, 'space_used': 3609201911, 'max_upload_size': 536870912000, 'status': 'active', 'job_title': '', 'phone': '', 'address': '', 'avatar_url': 'https://hurrey.app.box.com/api/avatar/large/19498290761'}\n"
     ]
    }
   ],
   "source": [
    "from box_sdk_gen import BoxClient, CCGConfig, BoxCCGAuth\n",
    "\n",
    "ccg_config = CCGConfig(\n",
    "    client_id=BOX_CLIENT_ID,\n",
    "    client_secret=BOX_CLIENT_SECRET,\n",
    "    user_id=BOX_USER_ID,\n",
    ")\n",
    "\n",
    "ccg_auth = BoxCCGAuth(ccg_config)\n",
    "\n",
    "client = BoxClient(ccg_auth)\n",
    "\n",
    "print(f\"{client.users.get_user_me()}\")"
   ]
  },
  {
   "cell_type": "code",
   "execution_count": 16,
   "id": "b49f3edc",
   "metadata": {},
   "outputs": [
    {
     "name": "stdout",
     "output_type": "stream",
     "text": [
      "The Phase 2 clinical trial of Novostatin (Novitor) was designed as a randomized, double-blind, placebo-controlled, multi-center study to evaluate the safety and efficacy of Novostatin in patients with hypercholesterolemia. The study enrolled approximately 200 adult subjects aged 18–75 years with LDL cholesterol ≥130 mg/dL despite lifestyle modifications. Subjects were randomized 1:1 to receive either Novostatin 10 mg once daily or matching placebo for 24 weeks. Key inclusion criteria included BMI between 18 and 35 kg/m², with protocol amendments allowing dose escalation to 15 mg at Week 8 for patients with BMI >30 kg/m² who showed insufficient LDL reduction and no safety concerns.\n",
      "\n",
      "Primary efficacy assessment focused on the mean percentage change in LDL cholesterol from baseline to Week 24, analyzed using an ANCOVA model adjusting for baseline LDL levels. Secondary endpoints included changes in total cholesterol, HDL cholesterol, triglycerides, inflammatory biomarkers (hs-CRP, IL-6), and carotid intima-media thickness (CIMT). Safety evaluations encompassed adverse event monitoring, laboratory tests (liver enzymes, creatine kinase), vital signs, ECGs, and pharmacokinetic assessments in a subset of 50 subjects.\n",
      "\n",
      "Data collection utilized electronic case report forms (eCRFs) with rigorous data management and quality assurance processes including regular monitoring visits, audits, and query resolution. An independent Data Monitoring Committee conducted an interim safety analysis at Week 12 without unblinding efficacy data. Pharmacokinetic parameters such as C_max, T_max, AUC, and half-life were measured to support dosing regimen decisions.\n",
      "\n",
      "Overall, the approach combined robust randomization and blinding, comprehensive efficacy and safety assessments, adaptive dosing based on patient characteristics, and stringent data integrity measures to thoroughly evaluate Novostatin’s benefit-risk profile before advancing to Phase 3 trials.\n",
      "\n",
      "Would you like me to also provide a concise tabular summary of the key design elements and endpoints?\n"
     ]
    }
   ],
   "source": [
    "from box_sdk_gen import (\n",
    "    CreateAiAskMode,\n",
    "    AiItemAsk,\n",
    "    AiItemAskTypeField,\n",
    "    AiDialogueHistory\n",
    ")\n",
    "\n",
    "prompt = \"\"\"\n",
    "Analyze the drug trial and create a summary approach used to test the drug.\n",
    "\"\"\"\n",
    "\n",
    "ai_response = client.ai.create_ai_ask(\n",
    "    mode=CreateAiAskMode.SINGLE_ITEM_QA,\n",
    "    prompt=prompt,\n",
    "    items=[\n",
    "        AiItemAsk(\n",
    "            id=BOX_HUBS_ID, \n",
    "            type=AiItemAskTypeField.HUBS,\n",
    "        )\n",
    "    ]\n",
    ")\n",
    "\n",
    "print (ai_response.answer)"
   ]
  },
  {
   "cell_type": "code",
   "execution_count": 17,
   "id": "1b65965a",
   "metadata": {},
   "outputs": [
    {
     "name": "stdout",
     "output_type": "stream",
     "text": [
      "Yes, Novostatin demonstrated significantly better efficacy than placebo in the Phase 2 trial. The primary endpoint showed a mean LDL cholesterol reduction of 20.5% from baseline to Week 24 in the Novostatin group compared to only 4.8% in the placebo group, with a highly statistically significant between-group difference (p < 0.001). Secondary lipid parameters also improved significantly with Novostatin versus placebo: total cholesterol decreased by 15.0% vs. 3.5%, HDL cholesterol increased by 5.0% vs. 1.0%, and triglycerides decreased by 12.0% vs. 2.0% (all p-values < 0.01). Additionally, inflammatory biomarkers such as hs-CRP were reduced by approximately 25% with Novostatin compared to 5% with placebo (p < 0.001), and carotid intima-media thickness showed a significant decrease, indicating potential vascular benefits.\n",
      "\n",
      "These results collectively confirm that Novostatin was more effective than placebo in lowering LDL cholesterol and improving cardiovascular risk markers.\n",
      "\n",
      "Would you like details on the safety profile or specific subgroup analyses related to efficacy?\n",
      "Citations: [<class 'box_sdk_gen.schemas.ai_citation.AiCitation'> {'content': 'Conclusion\\nThe efficacy analysis of the Phase 2 trial demonstrates that Novostatin (Novitor) significantly reduces LDL cholesterol levels and improves other lipid parameters compared to placebo.', 'id': '1936019025039', 'type': 'file', 'name': 'Efficacy Analysis Summaries.docx'}, <class 'box_sdk_gen.schemas.ai_citation.AiCitation'> {'content': 'HDL cholesterol increased by 5.0% with Novostatin versus 1.0% in the placebo group, while triglycerides decreased by 12.0% compared to a 2.0% reduction with placebo.', 'id': '1936019025039', 'type': 'file', 'name': 'Efficacy Analysis Summaries.docx'}, <class 'box_sdk_gen.schemas.ai_citation.AiCitation'> {'content': '· Responder Analysis:\\nA responder analysis indicated that 75% of subjects in the Novostatin arm achieved a ≥15% reduction in LDL cholesterol, compared to 20% in the placebo arm.', 'id': '1936019025039', 'type': 'file', 'name': 'Efficacy Analysis Summaries.docx'}, <class 'box_sdk_gen.schemas.ai_citation.AiCitation'> {'content': 'Total cholesterol was reduced by 15.0% in the Novostatin group compared to a 3.5% reduction in the placebo group.', 'id': '1936019025039', 'type': 'file', 'name': 'Efficacy Analysis Summaries.docx'}, <class 'box_sdk_gen.schemas.ai_citation.AiCitation'> {'content': 'Summary of Phase 2 Results and Rationale for Phase 3 Advancement\\nThe Phase 2 trial of Novostatin (Novitor) demonstrated:\\n· Efficacy:\\nA mean reduction in LDL cholesterol of 18% from baseline compared to a 3% reduction in the placebo group (p<0.001).', 'id': '1936012343588', 'type': 'file', 'name': 'Regulatory Submission Document.docx'}]\n"
     ]
    }
   ],
   "source": [
    "dialogue_history = []\n",
    "\n",
    "dialogue_history.append(AiDialogueHistory(\n",
    "    prompt=prompt,\n",
    "    answer=ai_response.answer, # type: ignore\n",
    "    created_at=ai_response.created_at # type: ignore\n",
    "))\n",
    "\n",
    "new_response = client.ai.create_ai_ask(\n",
    "    CreateAiAskMode.SINGLE_ITEM_QA,\n",
    "    \"Did the drug work better than a placebo?\",\n",
    "    [\n",
    "        AiItemAsk(\n",
    "            id=BOX_HUBS_ID,\n",
    "            type=AiItemAskTypeField.HUBS,\n",
    "        )\n",
    "    ],\n",
    "    dialogue_history=dialogue_history,\n",
    "    include_citations=True\n",
    ")\n",
    "\n",
    "print (new_response.answer)\n",
    "print (f\"Citations: {new_response.citations}\")"
   ]
  },
  {
   "cell_type": "code",
   "execution_count": null,
   "id": "f5d2d568",
   "metadata": {},
   "outputs": [
    {
     "name": "stdout",
     "output_type": "stream",
     "text": [
      "Overwriting box_ai_qna_hub.py\n"
     ]
    }
   ],
   "source": [
    "%%writefile box_ai_qna_hub.py\n",
    "import asyncio\n",
    "import os\n",
    "\n",
    "from dotenv import load_dotenv\n",
    "\n",
    "from box_sdk_gen import (\n",
    "    AiDialogueHistory,\n",
    "    AiItemAsk,\n",
    "    AiItemAskTypeField,\n",
    "    BoxClient,\n",
    "    BoxCCGAuth,\n",
    "    CCGConfig,\n",
    "    CreateAiAskMode\n",
    ")\n",
    "\n",
    "load_dotenv(override=True)\n",
    "\n",
    "BOX_CLIENT_ID=os.getenv('BOX_CLIENT_ID')\n",
    "BOX_CLIENT_SECRET=os.getenv('BOX_CLIENT_SECRET')\n",
    "BOX_USER_ID=os.getenv('BOX_USER_ID')\n",
    "BOX_HUBS_ID=os.getenv('HUBS_ID')\n",
    "\n",
    "async def chat_with_ai(): \n",
    "    ccg_config = CCGConfig(\n",
    "        client_id=BOX_CLIENT_ID,\n",
    "        client_secret=BOX_CLIENT_SECRET,\n",
    "        user_id=BOX_USER_ID,\n",
    "    )\n",
    "    auth = BoxCCGAuth(config=ccg_config)\n",
    "    client = BoxClient(auth=auth)\n",
    "    \n",
    "    dialogue_history = []\n",
    "    \n",
    "    print(\"Box AI Chat - Type 'quit' to exit\")\n",
    "    print(\"-\" * 40)\n",
    "    \n",
    "    while True:\n",
    "        prompt = input(\"\\nYou: \").strip()\n",
    "        \n",
    "        if prompt.lower() in ['quit', 'exit', 'q']:\n",
    "            print(\"Goodbye!\")\n",
    "            break\n",
    "            \n",
    "        if not prompt:\n",
    "            continue\n",
    "            \n",
    "        try:\n",
    "            response = client.ai.create_ai_ask(\n",
    "                mode=CreateAiAskMode.SINGLE_ITEM_QA,\n",
    "                prompt=prompt,\n",
    "                items=[\n",
    "                    AiItemAsk(\n",
    "                        id=BOX_HUBS_ID, \n",
    "                        type=AiItemAskTypeField.HUBS,\n",
    "                    )\n",
    "                ],\n",
    "                dialogue_history=dialogue_history,\n",
    "                include_citations=True,\n",
    "            )\n",
    "            \n",
    "            print(f\"\\nAI: {response.answer}\") # type: ignore\n",
    "            \n",
    "            i=1\n",
    "            print(\"\\nCitations:\")\n",
    "            print(\"-\" * 20)\n",
    "            for citation in response.citations:\n",
    "                print(f\"\\n{i}. {citation.content} ({citation.name})\") # type: ignore\n",
    "                i += 1\n",
    "            \n",
    "            # Update dialogue history\n",
    "            dialogue_history.append(AiDialogueHistory(\n",
    "                prompt=prompt,\n",
    "                answer=response.answer, # type: ignore\n",
    "                created_at=response.created_at # type: ignore\n",
    "            ))\n",
    "            \n",
    "        except Exception as e:\n",
    "            print(f\"\\nError: {e}\")\n",
    "\n",
    "if __name__ == \"__main__\":\n",
    "    asyncio.run(chat_with_ai())\n"
   ]
  }
 ],
 "metadata": {
  "kernelspec": {
   "display_name": ".venv",
   "language": "python",
   "name": "python3"
  },
  "language_info": {
   "codemirror_mode": {
    "name": "ipython",
    "version": 3
   },
   "file_extension": ".py",
   "mimetype": "text/x-python",
   "name": "python",
   "nbconvert_exporter": "python",
   "pygments_lexer": "ipython3",
   "version": "3.11.11"
  }
 },
 "nbformat": 4,
 "nbformat_minor": 5
}

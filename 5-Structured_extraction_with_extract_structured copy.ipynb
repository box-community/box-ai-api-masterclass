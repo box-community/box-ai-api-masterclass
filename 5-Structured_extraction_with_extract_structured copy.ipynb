{
 "cells": [
  {
   "cell_type": "markdown",
   "id": "c9b38421",
   "metadata": {},
   "source": [
    "# Structured extract with Box AI\n",
    "\n",
    "In this notebook, we will learn how to use the Box AI API `/extract_structured` endpoint to extract key/value pairs from files in Box based on a pre-configured Box Metadata template. The files we will be using are 5 invoices. \n",
    "\n",
    "## Prerequisites\n",
    "\n",
    "You must have completed the Setup notebook first. This will create all of the Box objects, folders, and files that you need, and will have created an environment file to help you get started and import all the libraries you will need.\n",
    "\n",
    "## Workshop\n",
    "\n",
    "The first step is to import all of the environment variables we need for this exercise."
   ]
  },
  {
   "cell_type": "code",
   "execution_count": null,
   "id": "a5522667",
   "metadata": {},
   "outputs": [],
   "source": [
    "import os\n",
    "from dotenv import load_dotenv\n",
    "\n",
    "load_dotenv(override=True)\n",
    "\n",
    "BOX_CLIENT_ID=os.getenv('BOX_CLIENT_ID')\n",
    "BOX_CLIENT_SECRET=os.getenv('BOX_CLIENT_SECRET')\n",
    "BOX_USER_ID=os.getenv('BOX_USER_ID')\n",
    "BOX_FOLDER_ID=os.getenv('EXERCISE5_FOLDER')\n",
    "BOX_METADATA_TEMPLATE_KEY=os.getenv('METADATA_TEMPLATE_KEY')"
   ]
  },
  {
   "cell_type": "markdown",
   "id": "7b96aa28",
   "metadata": {},
   "source": [
    "Next we will grab the BoxClient object from the Python SDK to authenticate ourselves to the API. We'll print out the current user's information to ensure we are properly authenticated."
   ]
  },
  {
   "cell_type": "code",
   "execution_count": null,
   "id": "1a9334b6",
   "metadata": {},
   "outputs": [],
   "source": [
    "from box_sdk_gen import BoxClient, CCGConfig, BoxCCGAuth\n",
    "\n",
    "ccg_config = CCGConfig(\n",
    "    client_id=BOX_CLIENT_ID,\n",
    "    client_secret=BOX_CLIENT_SECRET,\n",
    "    user_id=BOX_USER_ID,\n",
    ")\n",
    "\n",
    "ccg_auth = BoxCCGAuth(ccg_config)\n",
    "\n",
    "client = BoxClient(ccg_auth)\n",
    "\n",
    "print(f\"{client.users.get_user_me()}\")"
   ]
  },
  {
   "cell_type": "markdown",
   "id": "80cee8ad",
   "metadata": {},
   "source": [
    "Now we will loop through the files in our folder and extract the values we need based on the provided metadata template. "
   ]
  },
  {
   "cell_type": "code",
   "execution_count": null,
   "id": "fd88559b",
   "metadata": {},
   "outputs": [],
   "source": [
    "from box_sdk_gen import (\n",
    "    AiItemBase,\n",
    "    AiItemBaseTypeField,\n",
    "    CreateAiExtractStructuredMetadataTemplate\n",
    ")\n",
    "\n",
    "files = client.folders.get_folder_items(BOX_FOLDER_ID).to_dict()\n",
    "\n",
    "print(\"Processing files...\")\n",
    "\n",
    "for file in files[\"entries\"]:\n",
    "    box_ai_response = client.ai.create_ai_extract_structured(\n",
    "        items=[\n",
    "            AiItemBase(\n",
    "                id=file[\"id\"],\n",
    "                type=AiItemBaseTypeField.FILE,\n",
    "            )\n",
    "        ],\n",
    "        metadata_template=CreateAiExtractStructuredMetadataTemplate(\n",
    "            scope=\"enterprise\",\n",
    "            template_key=BOX_METADATA_TEMPLATE_KEY\n",
    "        )\n",
    "    )\n",
    "\n",
    "    print(f\"File: {file['name']}\")\n",
    "    print(f\"AI Extract Structured Metadata: {box_ai_response.answer}\")\n",
    "    print(\"--------------------------------------------------\")"
   ]
  },
  {
   "cell_type": "markdown",
   "id": "7e7da404",
   "metadata": {},
   "source": [
    "Extract Structured gives you a powerful extraction tool that you can run against all of your files without having to move files around. It also gives you a response in a format that you can easily push back into Box as Box Metadata, which makes finding files easier and more powerful, and powers your Box Apps.\n",
    "\n",
    "To get you started, we've provided full, runnable files for this exercise. Running the following cells will generate the file for you in the exercise folders. Use it as-is, or use it as inspiration or a starting point for your workflows and applications."
   ]
  },
  {
   "cell_type": "code",
   "execution_count": null,
   "id": "0a4874fe",
   "metadata": {},
   "outputs": [],
   "source": [
    "%%writefile box_ai_structured_extract.py\n",
    "import os\n",
    "import asyncio\n",
    "from dotenv import load_dotenv\n",
    "\n",
    "from box_sdk_gen import (\n",
    "    BoxClient,\n",
    "    CCGConfig,\n",
    "    BoxCCGAuth,\n",
    "    AiItemBase,\n",
    "    AiItemBaseTypeField,\n",
    "    CreateAiExtractStructuredMetadataTemplate\n",
    ")\n",
    "\n",
    "load_dotenv(override=True)\n",
    "\n",
    "BOX_CLIENT_ID=os.getenv('BOX_CLIENT_ID')\n",
    "BOX_CLIENT_SECRET=os.getenv('BOX_CLIENT_SECRET')\n",
    "BOX_USER_ID=os.getenv('BOX_USER_ID')\n",
    "BOX_FOLDER_ID=os.getenv('EXERCISE5_FOLDER')\n",
    "BOX_METADATA_TEMPLATE_KEY=os.getenv('METADATA_TEMPLATE_KEY')\n",
    "\n",
    "def get_box_client():\n",
    "    ccg_config = CCGConfig(\n",
    "        client_id=BOX_CLIENT_ID,\n",
    "        client_secret=BOX_CLIENT_SECRET,\n",
    "        user_id=BOX_USER_ID,\n",
    "    )\n",
    "\n",
    "    ccg_auth = BoxCCGAuth(ccg_config)\n",
    "\n",
    "    client = BoxClient(ccg_auth)\n",
    "\n",
    "    return client\n",
    "\n",
    "async def chat_with_ai(): \n",
    "    client = get_box_client()\n",
    "    print(f\"{client.users.get_user_me()}\")\n",
    "    \n",
    "    files = client.folders.get_folder_items(BOX_FOLDER_ID).to_dict()\n",
    "\n",
    "    print(\"Processing files...\")\n",
    "\n",
    "    for file in files[\"entries\"]:\n",
    "        box_ai_response = client.ai.create_ai_extract_structured(\n",
    "            items=[\n",
    "                AiItemBase(\n",
    "                    id=file[\"id\"],\n",
    "                    type=AiItemBaseTypeField.FILE,\n",
    "                )\n",
    "            ],\n",
    "            metadata_template=CreateAiExtractStructuredMetadataTemplate(\n",
    "                scope=\"enterprise\",\n",
    "                template_key=BOX_METADATA_TEMPLATE_KEY\n",
    "            )\n",
    "        )\n",
    "\n",
    "        print(f\"File: {file['name']}\")\n",
    "        print(f\"AI Extract Structured Metadata: {box_ai_response.answer}\")\n",
    "        print(\"--------------------------------------------------\")\n",
    "\n",
    "if __name__ == \"__main__\":\n",
    "    asyncio.run(chat_with_ai())"
   ]
  }
 ],
 "metadata": {
  "kernelspec": {
   "display_name": ".venv",
   "language": "python",
   "name": "python3"
  },
  "language_info": {
   "codemirror_mode": {
    "name": "ipython",
    "version": 3
   },
   "file_extension": ".py",
   "mimetype": "text/x-python",
   "name": "python",
   "nbconvert_exporter": "python",
   "pygments_lexer": "ipython3",
   "version": "3.11.11"
  }
 },
 "nbformat": 4,
 "nbformat_minor": 5
}

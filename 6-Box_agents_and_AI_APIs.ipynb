{
 "cells": [
  {
   "cell_type": "markdown",
   "id": "01eac30a",
   "metadata": {},
   "source": [
    "# Box Agents with Box AI\n",
    "\n",
    "In this notebook, we will learn how to use the Enhanced Extract Agent with the Box AI API `/extract_structured` endpoint to extract information from a single file in Box. In the last example, we used a Box Metadata Template. In this example, we will define the fields we want directly inline in the API call itself. We will extract this data from a stock purchas agreement.\n",
    "\n",
    "We will also show you how to call a Box AI Studio agent from the Box AI API `/ask` endpoint from a single file. For this, we will analyze a due dilligence document.\n",
    "\n",
    "## Prerequisites\n",
    "\n",
    "You must have completed the Setup notebook first. This will create all of the Box objects, folders, and files that you need, and will have created an environment file to help you get started and import all the libraries you will need.\n",
    "\n",
    "## Workshop\n",
    "\n",
    "The first step is to import all of the environment variables we need for this exercise."
   ]
  },
  {
   "cell_type": "code",
   "execution_count": 1,
   "id": "452b9d5d",
   "metadata": {},
   "outputs": [],
   "source": [
    "import os\n",
    "from dotenv import load_dotenv\n",
    "\n",
    "load_dotenv(override=True)\n",
    "\n",
    "BOX_CLIENT_ID=os.getenv('BOX_CLIENT_ID')\n",
    "BOX_CLIENT_SECRET=os.getenv('BOX_CLIENT_SECRET')\n",
    "BOX_USER_ID=os.getenv('BOX_USER_ID')\n",
    "BOX_FOLDER_ID=os.getenv('EXERCISE6_FOLDER')\n",
    "BOX_AGENT_ID=os.getenv('AI_AGENT_ID')"
   ]
  },
  {
   "cell_type": "markdown",
   "id": "58c83e4e",
   "metadata": {},
   "source": [
    "Next we will grab the BoxClient object from the Python SDK to authenticate ourselves to the API. We'll print out the current user's information to ensure we are properly authenticated."
   ]
  },
  {
   "cell_type": "code",
   "execution_count": 2,
   "id": "bf29677e",
   "metadata": {},
   "outputs": [
    {
     "name": "stdout",
     "output_type": "stream",
     "text": [
      "<class 'box_sdk_gen.schemas.user_full.UserFull'> {'id': '19498290761', 'type': 'user', 'name': 'Scott Hurrey', 'login': 'shurrey+eplusadmin@boxdemo.com', 'created_at': '2022-05-26T10:57:52-07:00', 'modified_at': '2025-08-25T13:51:12-07:00', 'language': 'en', 'timezone': 'America/Los_Angeles', 'space_amount': 999999999999999, 'space_used': 3609201911, 'max_upload_size': 536870912000, 'status': 'active', 'job_title': '', 'phone': '', 'address': '', 'avatar_url': 'https://hurrey.app.box.com/api/avatar/large/19498290761'}\n"
     ]
    }
   ],
   "source": [
    "from box_sdk_gen import BoxClient, CCGConfig, BoxCCGAuth\n",
    "\n",
    "ccg_config = CCGConfig(\n",
    "    client_id=BOX_CLIENT_ID,\n",
    "    client_secret=BOX_CLIENT_SECRET,\n",
    "    user_id=BOX_USER_ID,\n",
    ")\n",
    "\n",
    "ccg_auth = BoxCCGAuth(ccg_config)\n",
    "\n",
    "client = BoxClient(ccg_auth)\n",
    "\n",
    "print(f\"{client.users.get_user_me()}\")"
   ]
  },
  {
   "cell_type": "markdown",
   "id": "3da12274",
   "metadata": {},
   "source": [
    "Now let's find the files in the exercise folder we'll need for this demo."
   ]
  },
  {
   "cell_type": "code",
   "execution_count": 3,
   "id": "0a71270c",
   "metadata": {},
   "outputs": [
    {
     "name": "stdout",
     "output_type": "stream",
     "text": [
      "File Name: Legal Due Dilligence Documents.docx,File ID: 1965333529583\n",
      "File Name: STOCK PURCHASE AGREEMENT.docx,File ID: 1965327798264\n"
     ]
    }
   ],
   "source": [
    "files = client.folders.get_folder_items(BOX_FOLDER_ID)\n",
    "\n",
    "file_ids = {}\n",
    "for file in files.entries:\n",
    "    file_ids[file.name] = file.id\n",
    "\n",
    "    print(f\"File Name: {file.name},File ID: {file.id}\")"
   ]
  },
  {
   "cell_type": "markdown",
   "id": "2714d3db",
   "metadata": {},
   "source": [
    "Now we will create the AiAgentReference object that tells the Box AI API to use the enhanced extract agent. You will notice the id is a literal string, \"enhanced_extract_agent\" and the type is AI_AGENT_ID. This is a pattern you'll want to remember."
   ]
  },
  {
   "cell_type": "code",
   "execution_count": 4,
   "id": "9a26c5e3",
   "metadata": {},
   "outputs": [],
   "source": [
    "from box_sdk_gen import AiAgentReference, AiAgentReferenceTypeField\n",
    "\n",
    "enhanced_extract_config = AiAgentReference(id=\"enhanced_extract_agent\", type=AiAgentReferenceTypeField.AI_AGENT_ID)"
   ]
  },
  {
   "cell_type": "markdown",
   "id": "38c1a362",
   "metadata": {},
   "source": [
    "With the AiAgentReference object defined, the next step is to reference that object in the ai_agent argument of the create_ai_extract_structured method. \n",
    "\n",
    "For the rest of the method, we are defining the file_ids as the file we want to interact with, and for fields, we are defining inline the fields we want to extract. You can use a Box Metadata Template if the fields are always the same. You can also define the fields inline if the Metadata Template doesn't meet your needs or the fields you extract might vary from run to run."
   ]
  },
  {
   "cell_type": "code",
   "execution_count": 5,
   "id": "04e2d189",
   "metadata": {},
   "outputs": [
    {
     "name": "stdout",
     "output_type": "stream",
     "text": [
      "<class 'box_sdk_gen.schemas.ai_extract_response.AiExtractResponse'> {'parties': 'Argyle LLP, Suregood Family Trust', 'effectiveDate': '2023-03-31', 'purchasePrice': 231000000, 'summary': \"Argyle LLP (Buyer) agrees to purchase 51% of Erebor Life, Inc.'s common shares from Suregood Family Trust (Seller) for $231,000,000. The Seller must operate the business as usual until closing, and the Buyer must pay the purchase price at closing.\", 'recommendation': 'Yes'}\n"
     ]
    }
   ],
   "source": [
    "from box_sdk_gen import (\n",
    "    AiItemBase,\n",
    "    CreateAiExtractStructuredFields,\n",
    "    CreateAiExtractStructuredFieldsOptionsField\n",
    ")\n",
    "\n",
    "ai_response = client.ai.create_ai_extract_structured(\n",
    "    [AiItemBase(id=file_ids[\"STOCK PURCHASE AGREEMENT.docx\"])],\n",
    "    fields=[\n",
    "        CreateAiExtractStructuredFields(\n",
    "            key=\"parties\",\n",
    "            display_name=\"Parties\",\n",
    "            description=\"The named parties involved\",\n",
    "            prompt=\"A comma separated list of the named parties involved\",\n",
    "            type=\"string\",\n",
    "        ),\n",
    "        CreateAiExtractStructuredFields(\n",
    "            key=\"effectiveDate\",\n",
    "            display_name=\"Effective date\",\n",
    "            description=\"The effective date of the contract\",\n",
    "            prompt=\"The effective date of the contract\",\n",
    "            type=\"date\",\n",
    "        ),\n",
    "        CreateAiExtractStructuredFields(\n",
    "            key=\"purchasePrice\",\n",
    "            display_name=\"Purchase price\",\n",
    "            description=\"The purchase price stated in the contract\",\n",
    "            prompt=\"The purchase price stated in the contract\",\n",
    "            type=\"float\",\n",
    "        ),\n",
    "        CreateAiExtractStructuredFields(\n",
    "            key=\"summary\",\n",
    "            display_name=\"Summary\",\n",
    "            description=\"A summary of the contract in 50 words or less\",\n",
    "            prompt=\"A summary of the contract in 50 words or less including key obligations\",\n",
    "            type=\"string\",\n",
    "        ),\n",
    "        CreateAiExtractStructuredFields(\n",
    "            key=\"recommendation\",\n",
    "            display_name=\"Recommendation\",\n",
    "            description=\"Should we make this purchase?\",\n",
    "            prompt=\"Given the financial details, would you recommend proceeding with the purchase? Answer Yes or No.\",\n",
    "            type=\"enum\",\n",
    "            options=[\n",
    "                CreateAiExtractStructuredFieldsOptionsField(key=\"Yes\"),\n",
    "                CreateAiExtractStructuredFieldsOptionsField(key=\"No\"),\n",
    "            ],\n",
    "        ),\n",
    "    ],\n",
    "    ai_agent=enhanced_extract_config,\n",
    ")\n",
    "\n",
    "print(ai_response.answer)"
   ]
  },
  {
   "cell_type": "markdown",
   "id": "be36738d",
   "metadata": {},
   "source": [
    "Now we will use the same pattern on a different endpoint, `/ask`, and instead of calling the enhanced extract agent, we will reference an agent in Box AI Studio. These can be defined and tested in the Box admin console, or you can create them via the API.\n",
    "\n",
    "These agents allow you to select models, tweak settings, and supply custom instructions and/or overwrite the System Prompt both holistically and at a granular level. \n",
    "\n",
    "First, let's run the prompt against the `ask` endpoint without the Agent."
   ]
  },
  {
   "cell_type": "code",
   "execution_count": 9,
   "id": "733a7527",
   "metadata": {},
   "outputs": [
    {
     "name": "stdout",
     "output_type": "stream",
     "text": [
      "The key risks identified in the legal due diligence documents for Erebor Life, Inc. include: (1) Asset Quality Verification risk related to ongoing monitoring of the $22.1 billion assets under management (AUM), which is currently under investigation by the Colorado Division of Insurance; (2) Minority Shareholder Risks stemming from Paula Wellington’s 4% ownership and her active litigation challenging strategic decisions, posing potential interference; and (3) Litigation Exposure with ongoing cases that, while not expected to materially impact valuation, require close monitoring to avoid surprises. Despite these risks, the company has a strong legal foundation, robust governance, enforceable contracts, and regulatory compliance. The recommendation is to proceed with the acquisition contingent upon implementing specific mitigation measures: (a) establish enhanced asset verification and reporting protocols to address AUM concerns; (b) negotiate clear minority shareholder protections and dispute resolution mechanisms to manage Paula Wellington’s influence; and (c) maintain active legal oversight on ongoing litigations with contingency plans. These demands will help reduce uncertainty and protect the investment value during and after the transaction.\n"
     ]
    }
   ],
   "source": [
    "from box_sdk_gen import (\n",
    "    CreateAiAskMode,\n",
    "    AiItemAsk,\n",
    "    AiItemAskTypeField\n",
    ")\n",
    "\n",
    "prompt = \"\"\"\n",
    "Analyze the provided legal due diligence documents for a potential acquisition.\n",
    "Summarize the key risks identified in these documents that could impact the\n",
    "acquisition decision. Provide a recommendation on whether to proceed with the acquisition\n",
    "based on the identified risks and a list of demands to mitigate these risks.\n",
    "\"\"\"\n",
    "\n",
    "ai_response = client.ai.create_ai_ask(\n",
    "    CreateAiAskMode.SINGLE_ITEM_QA,\n",
    "    prompt,\n",
    "    [\n",
    "        AiItemAsk(\n",
    "            id=file_ids[\"Legal Due Dilligence Documents.docx\"],\n",
    "            type=AiItemAskTypeField.FILE,\n",
    "        )\n",
    "    ]\n",
    ")\n",
    "\n",
    "print (ai_response.answer)"
   ]
  },
  {
   "cell_type": "markdown",
   "id": "aa996eb1",
   "metadata": {},
   "source": [
    "You'll notice we got a pretty good response based on our prompt. Now let's add in our agent. The way we define the agent is exactly how we defined the enhanced extract agent, but instead of the string literal for the ID, we are providing the agent's unique ID.\n",
    "\n",
    "This agent uses a custom instruction to define the agent's focus and area of expertise, as well as selecting the Gemini 2.5 Pro reasoning model for short documents. "
   ]
  },
  {
   "cell_type": "code",
   "execution_count": 7,
   "id": "312f8b4b",
   "metadata": {},
   "outputs": [],
   "source": [
    "ai_agent_config = AiAgentReference(id=BOX_AGENT_ID, type=AiAgentReferenceTypeField.AI_AGENT_ID)"
   ]
  },
  {
   "cell_type": "markdown",
   "id": "18e36494",
   "metadata": {},
   "source": [
    "With the agent defined, let's run the exact same prompt on the exact same document and compare the results."
   ]
  },
  {
   "cell_type": "code",
   "execution_count": 10,
   "id": "36f101f0",
   "metadata": {},
   "outputs": [
    {
     "name": "stdout",
     "output_type": "stream",
     "text": [
      "Based on my analysis of the provided due diligence documentation for the acquisition of Erebor Life, Inc., here are my findings.\n",
      "\n",
      "### **Summary of Key Risks**\n",
      "\n",
      "The due diligence documents reveal several critical risks that could materially impact the proposed acquisition. The information provided is dated March 31, 2023, which, when compared to the current date of August 26, 2025, exposes significant information gaps and unresolved issues.\n",
      "\n",
      "1.  **Critical Compliance Failure:** The company's Colorado Insurance License (No. CO-INS-4587) is listed as expiring on April 10, 2024. As of the current date, this license is expired. Operating without a valid insurance license is illegal and represents an existential threat to the business, potentially invalidating all ongoing operations and policies written since its expiration.\n",
      "2.  **Unresolved Material Litigation:** Two significant lawsuits were pending as of the report date with expected resolutions in mid-2023.\n",
      "    *   **Regulatory Action:** The `Colorado Division of Insurance vs. Erebor Life, Inc.` investigation into asset valuation practices for its $22.1 billion AUM poses a substantial financial and reputational risk. The outcome, which should now be known, is not documented and could have resulted in significant fines, sanctions, or mandated changes to its core business model.\n",
      "    *   **Shareholder Dispute:** The lawsuit from minority shareholder Paula Wellington (`Paula Wellington vs. Erebor Life, Inc.`) indicates internal strife and potential for future disruption. The final resolution and any associated settlement costs or governance changes are unknown.\n",
      "3.  **Lack of Corporate Control:** The proposed acquisition of a 51% majority stake does not appear to grant control of the Board of Directors. The Bylaws stipulate that the Suregood Family Trust designates 6 of the 9 directors. This arrangement would leave the acquirer, Argyle LLP, as a majority owner without operational or strategic control, which is a fundamentally flawed governance structure for an acquirer.\n",
      "4.  **Contractual Instability Risk:** The summary of material contracts with key partners like Alpine Mutual Insurance and TechSol Solutions lacks any information on change-of-control clauses. The acquisition could trigger termination rights in these essential agreements, jeopardizing a $12 million annual premium channel and critical IT infrastructure.\n",
      "\n",
      "### **Recommendation**\n",
      "\n",
      "**Do not proceed with the acquisition under the current terms and based on the available information.**\n",
      "\n",
      "The identified risks, particularly the expired insurance license and the lack of information on the outcome of material litigation, are severe enough to warrant an immediate halt to the transaction. The valuation of $231 million is indefensible without confirmation of the company's legal authority to operate and clarity on its litigation liabilities. The governance structure is unacceptable for a majority stakeholder. Proceeding would be reckless and expose Argyle LLP to unacceptable levels of legal, financial, and operational risk.\n",
      "\n",
      "### **Demands for Risk Mitigation**\n",
      "\n",
      "The transaction should only be reconsidered if the seller can satisfy the following demands prior to closing:\n",
      "\n",
      "1.  **Provide Proof of Current, Valid Licensure:** The seller must provide a copy of the current, renewed Colorado Insurance License for Erebor Life, Inc., and confirm that the company has been continuously and legally licensed to operate since April 10, 2024.\n",
      "2.  **Disclose Final Litigation Outcomes:** The seller must provide all final judgments, settlement agreements, and related documentation for both the `Colorado Division of Insurance vs. Erebor Life, Inc.` and `Paula Wellington vs. Erebor Life, Inc.` cases. This must include details of any financial penalties, operational mandates, or ongoing obligations.\n",
      "3.  **Amend Corporate Governance Documents:** As a condition of closing, the Articles of Incorporation and Bylaws must be amended to grant Argyle LLP, as the 51% majority shareholder, the right to appoint a majority of the Board of Directors (at least 5 of 9 seats).\n",
      "4.  **Secure Change-of-Control Consents:** The seller must provide written consent from all parties to material contracts, including Alpine Mutual Insurance, Centennial Financial Advisors, and TechSol Solutions, confirming that their agreements will remain in full force under the existing terms following the acquisition.\n",
      "5.  **Commission an Independent Asset Valuation:** In light of the regulatory investigation into asset valuation, Argyle LLP must commission a new, independent audit and valuation of the company's $22.1 billion Assets Under Management (AUM) to verify their quality and stated value.\n"
     ]
    }
   ],
   "source": [
    "ai_response = client.ai.create_ai_ask(\n",
    "    CreateAiAskMode.SINGLE_ITEM_QA,\n",
    "    prompt,\n",
    "    [\n",
    "        AiItemAsk(\n",
    "            id=file_ids[\"Legal Due Dilligence Documents.docx\"],\n",
    "            type=AiItemAskTypeField.FILE,\n",
    "        )\n",
    "    ],\n",
    "    ai_agent=ai_agent_config,\n",
    ")\n",
    "\n",
    "print (ai_response.answer)"
   ]
  },
  {
   "cell_type": "markdown",
   "id": "ffd6860a",
   "metadata": {},
   "source": [
    "As you can see, we got much better results. They are formatted the way we wanted and the results are much more thorough.\n",
    "\n",
    "As you can see, the Box AI API can be a powerful tool in your developer toolbox. We offer ways to get very specific results using exactly the configuration and model you want.\n",
    "\n",
    "To get you started, we've provided full, runnable files for these exercises. Running the following cells will generate the files for you in the exercise folders. Use them as-is, or use them as inspiration or a starting point for your workflows and applications."
   ]
  },
  {
   "cell_type": "code",
   "execution_count": 11,
   "id": "7d9ad964",
   "metadata": {},
   "outputs": [
    {
     "name": "stdout",
     "output_type": "stream",
     "text": [
      "Writing box_ai_enhanced_extract.py\n"
     ]
    }
   ],
   "source": [
    "%%writefile box_ai_enhanced_extract.py\n",
    "import os\n",
    "from dotenv import load_dotenv\n",
    "\n",
    "from box_sdk_gen import (\n",
    "    BoxClient,\n",
    "    CCGConfig,\n",
    "    BoxCCGAuth,\n",
    "    AiAgentReference,\n",
    "    AiAgentReferenceTypeField,\n",
    "    AiItemBase,\n",
    "    CreateAiExtractStructuredFields,\n",
    "    CreateAiExtractStructuredFieldsOptionsField\n",
    ")\n",
    "\n",
    "load_dotenv(override=True)\n",
    "\n",
    "BOX_CLIENT_ID=os.getenv('BOX_CLIENT_ID')\n",
    "BOX_CLIENT_SECRET=os.getenv('BOX_CLIENT_SECRET')\n",
    "BOX_USER_ID=os.getenv('BOX_USER_ID')\n",
    "BOX_FOLDER_ID=os.getenv('EXERCISE6_FOLDER')\n",
    "\n",
    "def get_box_client():\n",
    "    ccg_config = CCGConfig(\n",
    "        client_id=BOX_CLIENT_ID,\n",
    "        client_secret=BOX_CLIENT_SECRET,\n",
    "        user_id=BOX_USER_ID,\n",
    "    )\n",
    "\n",
    "    ccg_auth = BoxCCGAuth(ccg_config)\n",
    "\n",
    "    client = BoxClient(ccg_auth)\n",
    "\n",
    "    return client\n",
    "\n",
    "def get_file_ids(client, folder_id):\n",
    "    files = client.folders.get_folder_items(folder_id)\n",
    "\n",
    "    file_ids = {}\n",
    "    for file in files.entries:\n",
    "        file_ids[file.name] = file.id\n",
    "\n",
    "    return file_ids\n",
    "\n",
    "def configure_agent():\n",
    "    return AiAgentReference(id=\"enhanced_extract_agent\", type=AiAgentReferenceTypeField.AI_AGENT_ID)\n",
    "\n",
    "def get_fields():\n",
    "    return [\n",
    "        CreateAiExtractStructuredFields(\n",
    "            key=\"parties\",\n",
    "            display_name=\"Parties\",\n",
    "            description=\"The named parties involved\",\n",
    "            prompt=\"A comma separated list of the named parties involved\",\n",
    "            type=\"string\",\n",
    "        ),\n",
    "        CreateAiExtractStructuredFields(\n",
    "            key=\"effectiveDate\",\n",
    "            display_name=\"Effective date\",\n",
    "            description=\"The effective date of the contract\",\n",
    "            prompt=\"The effective date of the contract\",\n",
    "            type=\"date\",\n",
    "        ),\n",
    "        CreateAiExtractStructuredFields(\n",
    "            key=\"purchasePrice\",\n",
    "            display_name=\"Purchase price\",\n",
    "            description=\"The purchase price stated in the contract\",\n",
    "            prompt=\"The purchase price stated in the contract\",\n",
    "            type=\"float\",\n",
    "        ),\n",
    "        CreateAiExtractStructuredFields(\n",
    "            key=\"summary\",\n",
    "            display_name=\"Summary\",\n",
    "            description=\"A summary of the contract in 50 words or less\",\n",
    "            prompt=\"A summary of the contract in 50 words or less including key obligations\",\n",
    "            type=\"string\",\n",
    "        ),\n",
    "        CreateAiExtractStructuredFields(\n",
    "            key=\"recommendation\",\n",
    "            display_name=\"Recommendation\",\n",
    "            description=\"Should we make this purchase?\",\n",
    "            prompt=\"Given the financial details, would you recommend proceeding with the purchase? Answer Yes or No.\",\n",
    "            type=\"enum\",\n",
    "            options=[\n",
    "                CreateAiExtractStructuredFieldsOptionsField(key=\"Yes\"),\n",
    "                CreateAiExtractStructuredFieldsOptionsField(key=\"No\"),\n",
    "            ],\n",
    "        ),\n",
    "    ]\n",
    "\n",
    "def chat_with_ai():\n",
    "    client = get_box_client()\n",
    "    file_ids = get_file_ids(client, BOX_FOLDER_ID)\n",
    "    enhanced_extract_config = configure_agent()\n",
    "\n",
    "    ai_response = client.ai.create_ai_extract_structured(\n",
    "        [AiItemBase(id=file_ids[\"STOCK PURCHASE AGREEMENT.docx\"])],\n",
    "        fields=get_fields(),\n",
    "        ai_agent=enhanced_extract_config,\n",
    "    )\n",
    "\n",
    "    print(ai_response.answer)\n",
    "\n",
    "if __name__ == \"__main__\":  \n",
    "    chat_with_ai()"
   ]
  },
  {
   "cell_type": "code",
   "execution_count": 13,
   "id": "f54a5f08",
   "metadata": {},
   "outputs": [
    {
     "name": "stdout",
     "output_type": "stream",
     "text": [
      "Overwriting box_ai_studio_agent.py\n"
     ]
    }
   ],
   "source": [
    "%%writefile box_ai_studio_agent.py\n",
    "import os\n",
    "from dotenv import load_dotenv\n",
    "\n",
    "from box_sdk_gen import (\n",
    "    BoxClient,\n",
    "    CCGConfig,\n",
    "    BoxCCGAuth,\n",
    "    AiAgentReference,\n",
    "    AiAgentReferenceTypeField,\n",
    "    CreateAiAskMode,\n",
    "    AiItemAsk,\n",
    "    AiItemAskTypeField\n",
    ")\n",
    "\n",
    "load_dotenv(override=True)\n",
    "\n",
    "BOX_CLIENT_ID=os.getenv('BOX_CLIENT_ID')\n",
    "BOX_CLIENT_SECRET=os.getenv('BOX_CLIENT_SECRET')\n",
    "BOX_USER_ID=os.getenv('BOX_USER_ID')\n",
    "BOX_FOLDER_ID=os.getenv('EXERCISE6_FOLDER')\n",
    "BOX_AGENT_ID=os.getenv('AI_AGENT_ID')\n",
    "\n",
    "def get_box_client():\n",
    "    ccg_config = CCGConfig(\n",
    "        client_id=BOX_CLIENT_ID,\n",
    "        client_secret=BOX_CLIENT_SECRET,\n",
    "        user_id=BOX_USER_ID,\n",
    "    )\n",
    "\n",
    "    ccg_auth = BoxCCGAuth(ccg_config)\n",
    "\n",
    "    client = BoxClient(ccg_auth)\n",
    "\n",
    "    return client\n",
    "\n",
    "def get_file_ids(client, folder_id):\n",
    "    files = client.folders.get_folder_items(folder_id)\n",
    "\n",
    "    file_ids = {}\n",
    "    for file in files.entries:\n",
    "        file_ids[file.name] = file.id\n",
    "\n",
    "    return file_ids\n",
    "\n",
    "def configure_agent():\n",
    "    return AiAgentReference(id=BOX_AGENT_ID, type=AiAgentReferenceTypeField.AI_AGENT_ID)\n",
    "\n",
    "def chat_with_ai():\n",
    "    client = get_box_client()\n",
    "    file_ids = get_file_ids(client, BOX_FOLDER_ID)\n",
    "    ai_agent_config = configure_agent()\n",
    "\n",
    "    prompt = \"\"\"\n",
    "    Analyze the provided legal due diligence documents for a potential acquisition.\n",
    "    Summarize the key risks identified in these documents that could impact the\n",
    "    acquisition decision. Provide a recommendation on whether to proceed with the acquisition\n",
    "    based on the identified risks and a list of demands to mitigate these risks.\n",
    "    \"\"\"\n",
    "\n",
    "    ai_response = client.ai.create_ai_ask(\n",
    "        CreateAiAskMode.SINGLE_ITEM_QA,\n",
    "        prompt,\n",
    "        [\n",
    "            AiItemAsk(\n",
    "                id=file_ids[\"Legal Due Dilligence Documents.docx\"],\n",
    "                type=AiItemAskTypeField.FILE,\n",
    "            )\n",
    "        ],\n",
    "        ai_agent=ai_agent_config,\n",
    "    )\n",
    "\n",
    "    print (ai_response.answer)\n",
    "\n",
    "if __name__ == \"__main__\":  \n",
    "    chat_with_ai()"
   ]
  }
 ],
 "metadata": {
  "kernelspec": {
   "display_name": ".venv",
   "language": "python",
   "name": "python3"
  },
  "language_info": {
   "codemirror_mode": {
    "name": "ipython",
    "version": 3
   },
   "file_extension": ".py",
   "mimetype": "text/x-python",
   "name": "python",
   "nbconvert_exporter": "python",
   "pygments_lexer": "ipython3",
   "version": "3.11.11"
  }
 },
 "nbformat": 4,
 "nbformat_minor": 5
}

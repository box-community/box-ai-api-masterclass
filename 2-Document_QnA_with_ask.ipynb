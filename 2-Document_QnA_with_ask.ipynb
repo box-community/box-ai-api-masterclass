{
 "cells": [
  {
   "cell_type": "markdown",
   "id": "be0a92bf",
   "metadata": {},
   "source": [
    "# Document Q&A with Box AI\n",
    "\n",
    "In this notebook, we will learn how to use the Box AI API `/ask` endpoint to ask questions from a single file in Box. Specifically, we will have access to a PDF file containing federal policy information for the US Parole Commission.\n",
    "\n",
    "## Prequisites\n",
    "\n",
    "You must have completed the Setup notebook first. This will create all of the Box objects, folders, and files that you need, and will have created an environment file to help you get started and import all the libraries you will need.\n",
    "\n",
    "## Workshop\n",
    "\n",
    "The first step is to import all of the environment variables we need for this exercise."
   ]
  },
  {
   "cell_type": "code",
   "execution_count": 12,
   "id": "89901a3e",
   "metadata": {},
   "outputs": [],
   "source": [
    "import os\n",
    "from dotenv import load_dotenv\n",
    "\n",
    "load_dotenv(override=True)\n",
    "\n",
    "BOX_CLIENT_ID=os.getenv('BOX_CLIENT_ID')\n",
    "BOX_CLIENT_SECRET=os.getenv('BOX_CLIENT_SECRET')\n",
    "BOX_USER_ID=os.getenv('BOX_USER_ID')\n",
    "BOX_FOLDER_ID=os.getenv('EXERCISE2_FOLDER')"
   ]
  },
  {
   "cell_type": "code",
   "execution_count": null,
   "id": "52b68bda",
   "metadata": {},
   "outputs": [],
   "source": []
  },
  {
   "cell_type": "markdown",
   "id": "edef291d",
   "metadata": {},
   "source": [
    "Next we will grab the BoxClient object from the Python SDK to authenticate ourselves to the API. We'll print out the current user's information to ensure we are properly authenticated."
   ]
  },
  {
   "cell_type": "code",
   "execution_count": 7,
   "id": "d74fd54c",
   "metadata": {},
   "outputs": [
    {
     "name": "stdout",
     "output_type": "stream",
     "text": [
      "<class 'box_sdk_gen.schemas.user_full.UserFull'> {'id': '19498290761', 'type': 'user', 'name': 'Scott Hurrey', 'login': 'shurrey+eplusadmin@boxdemo.com', 'created_at': '2022-05-26T10:57:52-07:00', 'modified_at': '2025-08-25T13:51:12-07:00', 'language': 'en', 'timezone': 'America/Los_Angeles', 'space_amount': 999999999999999, 'space_used': 3609201911, 'max_upload_size': 536870912000, 'status': 'active', 'job_title': '', 'phone': '', 'address': '', 'avatar_url': 'https://hurrey.app.box.com/api/avatar/large/19498290761'}\n"
     ]
    }
   ],
   "source": [
    "from box_sdk_gen import BoxClient, CCGConfig, BoxCCGAuth\n",
    "\n",
    "ccg_config = CCGConfig(\n",
    "    client_id=BOX_CLIENT_ID,\n",
    "    client_secret=BOX_CLIENT_SECRET,\n",
    "    user_id=BOX_USER_ID,\n",
    ")\n",
    "\n",
    "ccg_auth = BoxCCGAuth(ccg_config)\n",
    "\n",
    "client = BoxClient(ccg_auth)\n",
    "\n",
    "print(f\"{client.users.get_user_me()}\")"
   ]
  },
  {
   "cell_type": "markdown",
   "id": "a672301c",
   "metadata": {},
   "source": [
    "Now let's find the file in the exercise folder we'll need for this demo."
   ]
  },
  {
   "cell_type": "code",
   "execution_count": null,
   "id": "3b03657a",
   "metadata": {},
   "outputs": [
    {
     "name": "stdout",
     "output_type": "stream",
     "text": [
      "BOX_FOLDER_ID: 337670070298\n",
      "File ID: 1965323041760\n"
     ]
    }
   ],
   "source": [
    "files = client.folders.get_folder_items(BOX_FOLDER_ID)\n",
    "\n",
    "file_id = \"\"\n",
    "for file in files.entries:\n",
    "    if file.name == \"CFR-2024-title28-vol1-sec2-20.pdf\":\n",
    "        file_id = file.id\n",
    "        break\n",
    "\n",
    "print(f\"File ID: {file_id}\")"
   ]
  },
  {
   "cell_type": "markdown",
   "id": "a1d79890",
   "metadata": {},
   "source": [
    "Now that we have our file ID, we will call the create_ai_ask method with the file ID and our prompt."
   ]
  },
  {
   "cell_type": "code",
   "execution_count": 32,
   "id": "5589a1af",
   "metadata": {},
   "outputs": [
    {
     "name": "stdout",
     "output_type": "stream",
     "text": [
      "The U.S. Parole Commission uses a set of guidelines designed to establish a national paroling policy that promotes consistent, fair, and equitable decision-making while allowing individual case consideration. These guidelines specify customary ranges of time to be served before release based on the severity category of the offense and the offender’s parole prognosis, which is assessed using a \"salient factor score\" reflecting the potential risk of parole violation. The offense severity is categorized from 1 (least severe) to 8 (most severe), with corresponding guideline time ranges varying by parole prognosis levels from very good to poor. The guidelines also provide detailed offense behavior severity indexes across various federal offenses, including homicide, assault, property crimes, drug offenses, and others, assigning each a severity category. Mitigating or aggravating factors can justify departures from the guidelines. Additionally, youthfulness at the time of the offense is considered a mitigating factor, and clinical evaluations may override predictive scoring when warranted. The Commission periodically reviews and updates these guidelines to ensure appropriateness.\n"
     ]
    }
   ],
   "source": [
    "from box_sdk_gen import (\n",
    "    CreateAiAskMode,\n",
    "    AiItemAsk,\n",
    "    AiItemAskTypeField,\n",
    "    AiDialogueHistory\n",
    ")\n",
    "\n",
    "prompt = \"\"\"\n",
    "Describe the guidelines used by the US Parole Commission\n",
    "to determine whether a federal inmate is eligible for parole.\n",
    "\"\"\"\n",
    "\n",
    "ai_response = client.ai.create_ai_ask(\n",
    "    CreateAiAskMode.SINGLE_ITEM_QA,\n",
    "    prompt,\n",
    "    [\n",
    "        AiItemAsk(\n",
    "            id=file_id,\n",
    "            type=AiItemAskTypeField.FILE,\n",
    "        )\n",
    "    ]\n",
    ")\n",
    "\n",
    "print (ai_response.answer)"
   ]
  },
  {
   "cell_type": "markdown",
   "id": "714dadd5",
   "metadata": {},
   "source": [
    "We now have the answer for our question, but what if we want to continue the conversation. REST APIs are stateless, so we provide the dialogue_history object to let Box AI know what we have talked about thus far. \n",
    "\n",
    "So let's save the previous question and answer and ask a follow-up question. "
   ]
  },
  {
   "cell_type": "code",
   "execution_count": 31,
   "id": "41b9b4ef",
   "metadata": {},
   "outputs": [
    {
     "name": "stdout",
     "output_type": "stream",
     "text": [
      "The salient factor score is an evaluation tool used by the U.S. Parole Commission to help determine an offender’s parole prognosis, which reflects the potential risk of parole violation. It is computed based on several items related to the offender’s criminal history and behavior, including prior convictions/adjudications (adult or juvenile), prior commitments of more than thirty days, age at commencement of the current offense, recent commitment-free periods, and probation/parole/confinement/escape status at the time of the current offense. Each item is scored according to specific criteria—for example, the number and nature of prior convictions, length and timing of prior commitments, and whether the offender was under supervision or confinement during the current offense. The total score helps classify offenders into categories such as very good, good, fair, or poor parole prognosis. While the salient factor score serves as a predictive aid, clinical evaluations may override it when circumstances warrant. The guidelines also specify special instructions for scoring in cases involving probation violators, parole violators, or confinement/escape status violators.\n",
      "Citations: [<class 'box_sdk_gen.schemas.ai_citation.AiCitation'> {'content': '(e) An evaluation sheet containing a \\n‘‘salient factor score’’ serves as an aid \\nin determining the parole prognosis \\n(potential risk of parole violation).', 'id': '1965323041760', 'type': 'file', 'name': 'CFR-2024-title28-vol1-sec2-20.pdf'}]\n"
     ]
    }
   ],
   "source": [
    "dialogue_history = []\n",
    "\n",
    "dialogue_history.append(AiDialogueHistory(\n",
    "    prompt=prompt,\n",
    "    answer=ai_response.answer, # type: ignore\n",
    "    created_at=ai_response.created_at # type: ignore\n",
    "))\n",
    "\n",
    "new_response = client.ai.create_ai_ask(\n",
    "    CreateAiAskMode.SINGLE_ITEM_QA,\n",
    "    \"what can you tell me about the salient factor score\",\n",
    "    [\n",
    "        AiItemAsk(\n",
    "            id=file_id,\n",
    "            type=AiItemAskTypeField.FILE,\n",
    "        )\n",
    "    ],\n",
    "    dialogue_history=dialogue_history,\n",
    "    include_citations=True\n",
    ")\n",
    "\n",
    "print (new_response.answer)\n",
    "print (f\"Citations: {new_response.citations}\")\n"
   ]
  },
  {
   "cell_type": "markdown",
   "id": "79b837b1",
   "metadata": {},
   "source": [
    "As you can see, the document Q&A capabilities of the Box AI API are pretty powerful. You can ask these questions of a single document or up to 25 document. You can also use the item.content object to inject other data not available in the document itself to enrich the context provided to the LLM for even more tailored answers.\n",
    "\n",
    "To get you started, we've provided full, runnable files for this exercise. Running the following cells will generate the file for you in the exercise folders. Use it as-is, or use it as inspiration or a starting point for your workflows and applications."
   ]
  },
  {
   "cell_type": "code",
   "execution_count": null,
   "id": "0477bb8e",
   "metadata": {},
   "outputs": [
    {
     "name": "stdout",
     "output_type": "stream",
     "text": [
      "Writing box_ai_qna_single.py\n"
     ]
    }
   ],
   "source": [
    "%%writefile box_ai_qna_single.py\n",
    "import asyncio\n",
    "import os\n",
    "\n",
    "from dotenv import load_dotenv\n",
    "\n",
    "from box_sdk_gen import (\n",
    "    AiDialogueHistory,\n",
    "    AiItemAsk,\n",
    "    AiItemAskTypeField,\n",
    "    BoxClient,\n",
    "    BoxCCGAuth,\n",
    "    CCGConfig,\n",
    "    CreateAiAskMode\n",
    ")\n",
    "\n",
    "load_dotenv(override=True)\n",
    "\n",
    "BOX_CLIENT_ID=os.getenv('BOX_CLIENT_ID')\n",
    "BOX_CLIENT_SECRET=os.getenv('BOX_CLIENT_SECRET')\n",
    "BOX_USER_ID=os.getenv('BOX_USER_ID')\n",
    "BOX_FOLDER_ID=os.getenv('EXERCISE2_FOLDER')\n",
    "\n",
    "def get_file_id(client, folder_id):\n",
    "    files = client.folders.get_folder_items(folder_id)\n",
    "    for file in files.entries:\n",
    "        if file.name == \"CFR-2024-title28-vol1-sec2-20.pdf\":\n",
    "            return file.id\n",
    "    return None\n",
    "\n",
    "async def chat_with_ai(): \n",
    "    ccg_config = CCGConfig(\n",
    "        client_id=BOX_CLIENT_ID,\n",
    "        client_secret=BOX_CLIENT_SECRET,\n",
    "        user_id=BOX_USER_ID,\n",
    "    )\n",
    "    auth = BoxCCGAuth(config=ccg_config)\n",
    "    client = BoxClient(auth=auth)\n",
    "\n",
    "    box_file_id = get_file_id(client, BOX_FOLDER_ID)    \n",
    "    \n",
    "    dialogue_history = []\n",
    "    \n",
    "    print(\"Box AI Chat - Type 'quit' to exit\")\n",
    "    print(\"-\" * 40)\n",
    "    \n",
    "    while True:\n",
    "        prompt = input(\"\\nYou: \").strip()\n",
    "        \n",
    "        if prompt.lower() in ['quit', 'exit', 'q']:\n",
    "            print(\"Goodbye!\")\n",
    "            break\n",
    "            \n",
    "        if not prompt:\n",
    "            continue\n",
    "            \n",
    "        try:\n",
    "            response = client.ai.create_ai_ask(\n",
    "                mode=CreateAiAskMode.SINGLE_ITEM_QA,\n",
    "                prompt=prompt,\n",
    "                items=[\n",
    "                    AiItemAsk(\n",
    "                        id=box_file_id, \n",
    "                        type=AiItemAskTypeField.FILE,\n",
    "                    )\n",
    "                ],\n",
    "                dialogue_history=dialogue_history,\n",
    "                include_citations=True,\n",
    "            )\n",
    "            \n",
    "            print(f\"\\nAI: {response.answer}\") # type: ignore\n",
    "            \n",
    "            i=1\n",
    "            print(\"\\nCitations:\")\n",
    "            print(\"-\" * 20)\n",
    "            for citation in response.citations:\n",
    "                print(f\"\\n{i}. {citation.content} ({citation.name})\") # type: ignore\n",
    "                i += 1\n",
    "            \n",
    "            # Update dialogue history\n",
    "            dialogue_history.append(AiDialogueHistory(\n",
    "                prompt=prompt,\n",
    "                answer=response.answer, # type: ignore\n",
    "                created_at=response.created_at # type: ignore\n",
    "            ))\n",
    "            \n",
    "        except Exception as e:\n",
    "            print(f\"\\nError: {e}\")\n",
    "\n",
    "if __name__ == \"__main__\":\n",
    "    asyncio.run(chat_with_ai())\n"
   ]
  }
 ],
 "metadata": {
  "kernelspec": {
   "display_name": ".venv",
   "language": "python",
   "name": "python3"
  },
  "language_info": {
   "codemirror_mode": {
    "name": "ipython",
    "version": 3
   },
   "file_extension": ".py",
   "mimetype": "text/x-python",
   "name": "python",
   "nbconvert_exporter": "python",
   "pygments_lexer": "ipython3",
   "version": "3.11.11"
  }
 },
 "nbformat": 4,
 "nbformat_minor": 5
}
